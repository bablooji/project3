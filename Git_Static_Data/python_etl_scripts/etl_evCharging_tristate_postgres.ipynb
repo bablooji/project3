{
 "cells": [
  {
   "cell_type": "code",
   "execution_count": 10,
   "metadata": {},
   "outputs": [],
   "source": [
    "import psycopg2\n",
    "import pandas as pd\n",
    "from sqlalchemy import create_engine\n",
    "import warnings\n",
    "warnings.filterwarnings(\"ignore\")\n",
    "from postgresRDSConnect import host, database, user, password, port"
   ]
  },
  {
   "cell_type": "code",
   "execution_count": 11,
   "metadata": {},
   "outputs": [
    {
     "name": "stdout",
     "output_type": "stream",
     "text": [
      "Connection to PostgreSQL database successful\n"
     ]
    }
   ],
   "source": [
    "# Establishing a connection\n",
    "try:\n",
    "    conn = psycopg2.connect(\n",
    "        host=host,\n",
    "        database=database,\n",
    "        user=user,\n",
    "        password=password,\n",
    "        port=port\n",
    "    )\n",
    "    print(\"Connection to PostgreSQL database successful\")\n",
    "except psycopg2.Error as e:\n",
    "    print(\"Error: Could not connect to PostgreSQL database\")\n",
    "    print(e)"
   ]
  },
  {
   "cell_type": "code",
   "execution_count": 5,
   "metadata": {},
   "outputs": [],
   "source": [
    "query = 'SELECT * FROM \"evChargers\".\"EV_Charger_Extract\";'"
   ]
  },
  {
   "cell_type": "code",
   "execution_count": 6,
   "metadata": {},
   "outputs": [],
   "source": [
    "df = pd.read_sql_query(query, conn)"
   ]
  },
  {
   "cell_type": "code",
   "execution_count": null,
   "metadata": {},
   "outputs": [],
   "source": [
    "df.head()"
   ]
  },
  {
   "cell_type": "code",
   "execution_count": null,
   "metadata": {},
   "outputs": [],
   "source": [
    "select_columns = df[['station_name',\n",
    " 'street_address',\n",
    " 'city',\n",
    " 'state',\n",
    " 'zip',\n",
    " 'country',\n",
    " 'facility_type',\n",
    " 'latitude',\n",
    " 'longitude',\n",
    " 'ev_network']]\n",
    "\n",
    "select_columns.head()"
   ]
  },
  {
   "cell_type": "code",
   "execution_count": 9,
   "metadata": {},
   "outputs": [],
   "source": [
    "select_columns.loc[select_columns['state'] == 'NJ', 'zip'] = select_columns.loc[select_columns['state'] == 'NJ', 'zip'].apply(lambda x: str(x).zfill(5))"
   ]
  },
  {
   "cell_type": "code",
   "execution_count": null,
   "metadata": {},
   "outputs": [],
   "source": [
    "filtered_rows = select_columns[select_columns['state'] == 'NJ']\n",
    "filtered_rows.head()"
   ]
  },
  {
   "cell_type": "code",
   "execution_count": null,
   "metadata": {},
   "outputs": [],
   "source": [
    "ev_charging_updated_df = select_columns\n",
    "ev_charging_updated_df.head()"
   ]
  },
  {
   "cell_type": "code",
   "execution_count": 9,
   "metadata": {},
   "outputs": [
    {
     "data": {
      "text/plain": [
       "station_name       object\n",
       "street_address     object\n",
       "city               object\n",
       "state              object\n",
       "zip                object\n",
       "country            object\n",
       "facility_type      object\n",
       "latitude          float64\n",
       "longitude         float64\n",
       "ev_network         object\n",
       "dtype: object"
      ]
     },
     "execution_count": 9,
     "metadata": {},
     "output_type": "execute_result"
    }
   ],
   "source": [
    "ev_charging_updated_df.dtypes"
   ]
  },
  {
   "cell_type": "code",
   "execution_count": null,
   "metadata": {},
   "outputs": [],
   "source": [
    "ev_charging_updated_df['zip'] = ev_charging_updated_df['zip'].astype(str)\n",
    "ev_charging_updated_df['city'] = ev_charging_updated_df['city'].astype(str)\n",
    "ev_charging_updated_df['state'] = ev_charging_updated_df['state'].astype(str)"
   ]
  },
  {
   "cell_type": "code",
   "execution_count": null,
   "metadata": {},
   "outputs": [],
   "source": [
    "\n",
    "# Construct the connection string\n",
    "db_connection_str = f'postgresql://{user}:{password}@{host}:{port}/{database}'\n",
    "\n",
    "# Define the schema name and view name\n",
    "schema_name = 'evChargers'\n",
    "table_name = 'EV_Charging_Tristate'\n",
    "\n",
    "# Write the DataFrame as a view to the database\n",
    "ev_charging_updated_df.to_sql(table_name, con=create_engine(db_connection_str), schema=schema_name, if_exists='replace', index=False)\n"
   ]
  }
 ],
 "metadata": {
  "kernelspec": {
   "display_name": "dev",
   "language": "python",
   "name": "python3"
  },
  "language_info": {
   "codemirror_mode": {
    "name": "ipython",
    "version": 3
   },
   "file_extension": ".py",
   "mimetype": "text/x-python",
   "name": "python",
   "nbconvert_exporter": "python",
   "pygments_lexer": "ipython3",
   "version": "3.11.5"
  }
 },
 "nbformat": 4,
 "nbformat_minor": 2
}
